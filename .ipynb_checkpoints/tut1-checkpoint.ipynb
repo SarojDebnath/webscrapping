{
 "cells": [
  {
   "cell_type": "code",
   "execution_count": 1,
   "id": "48bf3a33-ab76-44c8-aee8-c2a2d24a30f3",
   "metadata": {},
   "outputs": [],
   "source": [
    "import requests\n",
    "url='https://www.iplt20.com/'\n",
    "def fetch_data(url,path):\n",
    "    r=requests"
   ]
  },
  {
   "cell_type": "code",
   "execution_count": null,
   "id": "b15f4f0e-b2f0-410a-bf02-6f318eeba3a8",
   "metadata": {},
   "outputs": [],
   "source": []
  }
 ],
 "metadata": {
  "kernelspec": {
   "display_name": "Python 3 (ipykernel)",
   "language": "python",
   "name": "python3"
  },
  "language_info": {
   "codemirror_mode": {
    "name": "ipython",
    "version": 3
   },
   "file_extension": ".py",
   "mimetype": "text/x-python",
   "name": "python",
   "nbconvert_exporter": "python",
   "pygments_lexer": "ipython3",
   "version": "3.9.13"
  }
 },
 "nbformat": 4,
 "nbformat_minor": 5
}
